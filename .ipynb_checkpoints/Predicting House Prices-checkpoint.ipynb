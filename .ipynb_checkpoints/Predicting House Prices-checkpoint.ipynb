{
 "cells": [
  {
   "cell_type": "markdown",
   "metadata": {},
   "source": [
    "## Fire up graphlab create"
   ]
  },
  {
   "cell_type": "code",
   "execution_count": 20,
   "metadata": {
    "collapsed": true
   },
   "outputs": [],
   "source": [
    "import graphlab"
   ]
  },
  {
   "cell_type": "markdown",
   "metadata": {},
   "source": [
    "## Load some house sales data"
   ]
  },
  {
   "cell_type": "code",
   "execution_count": 21,
   "metadata": {},
   "outputs": [],
   "source": [
    "sales = graphlab.SFrame('home_data.sframe')"
   ]
  },
  {
   "cell_type": "code",
   "execution_count": 3,
   "metadata": {},
   "outputs": [
    {
     "data": {
      "text/html": [
       "<div style=\"max-height:1000px;max-width:1500px;overflow:auto;\"><table frame=\"box\" rules=\"cols\">\n",
       "    <tr>\n",
       "        <th style=\"padding-left: 1em; padding-right: 1em; text-align: center\">id</th>\n",
       "        <th style=\"padding-left: 1em; padding-right: 1em; text-align: center\">date</th>\n",
       "        <th style=\"padding-left: 1em; padding-right: 1em; text-align: center\">price</th>\n",
       "        <th style=\"padding-left: 1em; padding-right: 1em; text-align: center\">bedrooms</th>\n",
       "        <th style=\"padding-left: 1em; padding-right: 1em; text-align: center\">bathrooms</th>\n",
       "        <th style=\"padding-left: 1em; padding-right: 1em; text-align: center\">sqft_living</th>\n",
       "        <th style=\"padding-left: 1em; padding-right: 1em; text-align: center\">sqft_lot</th>\n",
       "        <th style=\"padding-left: 1em; padding-right: 1em; text-align: center\">floors</th>\n",
       "        <th style=\"padding-left: 1em; padding-right: 1em; text-align: center\">waterfront</th>\n",
       "    </tr>\n",
       "    <tr>\n",
       "        <td style=\"padding-left: 1em; padding-right: 1em; text-align: center; vertical-align: top\">7129300520</td>\n",
       "        <td style=\"padding-left: 1em; padding-right: 1em; text-align: center; vertical-align: top\">2014-10-13 00:00:00+00:00</td>\n",
       "        <td style=\"padding-left: 1em; padding-right: 1em; text-align: center; vertical-align: top\">221900.0</td>\n",
       "        <td style=\"padding-left: 1em; padding-right: 1em; text-align: center; vertical-align: top\">3.0</td>\n",
       "        <td style=\"padding-left: 1em; padding-right: 1em; text-align: center; vertical-align: top\">1.0</td>\n",
       "        <td style=\"padding-left: 1em; padding-right: 1em; text-align: center; vertical-align: top\">1180.0</td>\n",
       "        <td style=\"padding-left: 1em; padding-right: 1em; text-align: center; vertical-align: top\">5650.0</td>\n",
       "        <td style=\"padding-left: 1em; padding-right: 1em; text-align: center; vertical-align: top\">1.0</td>\n",
       "        <td style=\"padding-left: 1em; padding-right: 1em; text-align: center; vertical-align: top\">0</td>\n",
       "    </tr>\n",
       "    <tr>\n",
       "        <td style=\"padding-left: 1em; padding-right: 1em; text-align: center; vertical-align: top\">6414100192</td>\n",
       "        <td style=\"padding-left: 1em; padding-right: 1em; text-align: center; vertical-align: top\">2014-12-09 00:00:00+00:00</td>\n",
       "        <td style=\"padding-left: 1em; padding-right: 1em; text-align: center; vertical-align: top\">538000.0</td>\n",
       "        <td style=\"padding-left: 1em; padding-right: 1em; text-align: center; vertical-align: top\">3.0</td>\n",
       "        <td style=\"padding-left: 1em; padding-right: 1em; text-align: center; vertical-align: top\">2.25</td>\n",
       "        <td style=\"padding-left: 1em; padding-right: 1em; text-align: center; vertical-align: top\">2570.0</td>\n",
       "        <td style=\"padding-left: 1em; padding-right: 1em; text-align: center; vertical-align: top\">7242.0</td>\n",
       "        <td style=\"padding-left: 1em; padding-right: 1em; text-align: center; vertical-align: top\">2.0</td>\n",
       "        <td style=\"padding-left: 1em; padding-right: 1em; text-align: center; vertical-align: top\">0</td>\n",
       "    </tr>\n",
       "    <tr>\n",
       "        <td style=\"padding-left: 1em; padding-right: 1em; text-align: center; vertical-align: top\">5631500400</td>\n",
       "        <td style=\"padding-left: 1em; padding-right: 1em; text-align: center; vertical-align: top\">2015-02-25 00:00:00+00:00</td>\n",
       "        <td style=\"padding-left: 1em; padding-right: 1em; text-align: center; vertical-align: top\">180000.0</td>\n",
       "        <td style=\"padding-left: 1em; padding-right: 1em; text-align: center; vertical-align: top\">2.0</td>\n",
       "        <td style=\"padding-left: 1em; padding-right: 1em; text-align: center; vertical-align: top\">1.0</td>\n",
       "        <td style=\"padding-left: 1em; padding-right: 1em; text-align: center; vertical-align: top\">770.0</td>\n",
       "        <td style=\"padding-left: 1em; padding-right: 1em; text-align: center; vertical-align: top\">10000.0</td>\n",
       "        <td style=\"padding-left: 1em; padding-right: 1em; text-align: center; vertical-align: top\">1.0</td>\n",
       "        <td style=\"padding-left: 1em; padding-right: 1em; text-align: center; vertical-align: top\">0</td>\n",
       "    </tr>\n",
       "    <tr>\n",
       "        <td style=\"padding-left: 1em; padding-right: 1em; text-align: center; vertical-align: top\">2487200875</td>\n",
       "        <td style=\"padding-left: 1em; padding-right: 1em; text-align: center; vertical-align: top\">2014-12-09 00:00:00+00:00</td>\n",
       "        <td style=\"padding-left: 1em; padding-right: 1em; text-align: center; vertical-align: top\">604000.0</td>\n",
       "        <td style=\"padding-left: 1em; padding-right: 1em; text-align: center; vertical-align: top\">4.0</td>\n",
       "        <td style=\"padding-left: 1em; padding-right: 1em; text-align: center; vertical-align: top\">3.0</td>\n",
       "        <td style=\"padding-left: 1em; padding-right: 1em; text-align: center; vertical-align: top\">1960.0</td>\n",
       "        <td style=\"padding-left: 1em; padding-right: 1em; text-align: center; vertical-align: top\">5000.0</td>\n",
       "        <td style=\"padding-left: 1em; padding-right: 1em; text-align: center; vertical-align: top\">1.0</td>\n",
       "        <td style=\"padding-left: 1em; padding-right: 1em; text-align: center; vertical-align: top\">0</td>\n",
       "    </tr>\n",
       "    <tr>\n",
       "        <td style=\"padding-left: 1em; padding-right: 1em; text-align: center; vertical-align: top\">1954400510</td>\n",
       "        <td style=\"padding-left: 1em; padding-right: 1em; text-align: center; vertical-align: top\">2015-02-18 00:00:00+00:00</td>\n",
       "        <td style=\"padding-left: 1em; padding-right: 1em; text-align: center; vertical-align: top\">510000.0</td>\n",
       "        <td style=\"padding-left: 1em; padding-right: 1em; text-align: center; vertical-align: top\">3.0</td>\n",
       "        <td style=\"padding-left: 1em; padding-right: 1em; text-align: center; vertical-align: top\">2.0</td>\n",
       "        <td style=\"padding-left: 1em; padding-right: 1em; text-align: center; vertical-align: top\">1680.0</td>\n",
       "        <td style=\"padding-left: 1em; padding-right: 1em; text-align: center; vertical-align: top\">8080.0</td>\n",
       "        <td style=\"padding-left: 1em; padding-right: 1em; text-align: center; vertical-align: top\">1.0</td>\n",
       "        <td style=\"padding-left: 1em; padding-right: 1em; text-align: center; vertical-align: top\">0</td>\n",
       "    </tr>\n",
       "    <tr>\n",
       "        <td style=\"padding-left: 1em; padding-right: 1em; text-align: center; vertical-align: top\">7237550310</td>\n",
       "        <td style=\"padding-left: 1em; padding-right: 1em; text-align: center; vertical-align: top\">2014-05-12 00:00:00+00:00</td>\n",
       "        <td style=\"padding-left: 1em; padding-right: 1em; text-align: center; vertical-align: top\">1225000.0</td>\n",
       "        <td style=\"padding-left: 1em; padding-right: 1em; text-align: center; vertical-align: top\">4.0</td>\n",
       "        <td style=\"padding-left: 1em; padding-right: 1em; text-align: center; vertical-align: top\">4.5</td>\n",
       "        <td style=\"padding-left: 1em; padding-right: 1em; text-align: center; vertical-align: top\">5420.0</td>\n",
       "        <td style=\"padding-left: 1em; padding-right: 1em; text-align: center; vertical-align: top\">101930.0</td>\n",
       "        <td style=\"padding-left: 1em; padding-right: 1em; text-align: center; vertical-align: top\">1.0</td>\n",
       "        <td style=\"padding-left: 1em; padding-right: 1em; text-align: center; vertical-align: top\">0</td>\n",
       "    </tr>\n",
       "    <tr>\n",
       "        <td style=\"padding-left: 1em; padding-right: 1em; text-align: center; vertical-align: top\">1321400060</td>\n",
       "        <td style=\"padding-left: 1em; padding-right: 1em; text-align: center; vertical-align: top\">2014-06-27 00:00:00+00:00</td>\n",
       "        <td style=\"padding-left: 1em; padding-right: 1em; text-align: center; vertical-align: top\">257500.0</td>\n",
       "        <td style=\"padding-left: 1em; padding-right: 1em; text-align: center; vertical-align: top\">3.0</td>\n",
       "        <td style=\"padding-left: 1em; padding-right: 1em; text-align: center; vertical-align: top\">2.25</td>\n",
       "        <td style=\"padding-left: 1em; padding-right: 1em; text-align: center; vertical-align: top\">1715.0</td>\n",
       "        <td style=\"padding-left: 1em; padding-right: 1em; text-align: center; vertical-align: top\">6819.0</td>\n",
       "        <td style=\"padding-left: 1em; padding-right: 1em; text-align: center; vertical-align: top\">2.0</td>\n",
       "        <td style=\"padding-left: 1em; padding-right: 1em; text-align: center; vertical-align: top\">0</td>\n",
       "    </tr>\n",
       "    <tr>\n",
       "        <td style=\"padding-left: 1em; padding-right: 1em; text-align: center; vertical-align: top\">2008000270</td>\n",
       "        <td style=\"padding-left: 1em; padding-right: 1em; text-align: center; vertical-align: top\">2015-01-15 00:00:00+00:00</td>\n",
       "        <td style=\"padding-left: 1em; padding-right: 1em; text-align: center; vertical-align: top\">291850.0</td>\n",
       "        <td style=\"padding-left: 1em; padding-right: 1em; text-align: center; vertical-align: top\">3.0</td>\n",
       "        <td style=\"padding-left: 1em; padding-right: 1em; text-align: center; vertical-align: top\">1.5</td>\n",
       "        <td style=\"padding-left: 1em; padding-right: 1em; text-align: center; vertical-align: top\">1060.0</td>\n",
       "        <td style=\"padding-left: 1em; padding-right: 1em; text-align: center; vertical-align: top\">9711.0</td>\n",
       "        <td style=\"padding-left: 1em; padding-right: 1em; text-align: center; vertical-align: top\">1.0</td>\n",
       "        <td style=\"padding-left: 1em; padding-right: 1em; text-align: center; vertical-align: top\">0</td>\n",
       "    </tr>\n",
       "    <tr>\n",
       "        <td style=\"padding-left: 1em; padding-right: 1em; text-align: center; vertical-align: top\">2414600126</td>\n",
       "        <td style=\"padding-left: 1em; padding-right: 1em; text-align: center; vertical-align: top\">2015-04-15 00:00:00+00:00</td>\n",
       "        <td style=\"padding-left: 1em; padding-right: 1em; text-align: center; vertical-align: top\">229500.0</td>\n",
       "        <td style=\"padding-left: 1em; padding-right: 1em; text-align: center; vertical-align: top\">3.0</td>\n",
       "        <td style=\"padding-left: 1em; padding-right: 1em; text-align: center; vertical-align: top\">1.0</td>\n",
       "        <td style=\"padding-left: 1em; padding-right: 1em; text-align: center; vertical-align: top\">1780.0</td>\n",
       "        <td style=\"padding-left: 1em; padding-right: 1em; text-align: center; vertical-align: top\">7470.0</td>\n",
       "        <td style=\"padding-left: 1em; padding-right: 1em; text-align: center; vertical-align: top\">1.0</td>\n",
       "        <td style=\"padding-left: 1em; padding-right: 1em; text-align: center; vertical-align: top\">0</td>\n",
       "    </tr>\n",
       "    <tr>\n",
       "        <td style=\"padding-left: 1em; padding-right: 1em; text-align: center; vertical-align: top\">3793500160</td>\n",
       "        <td style=\"padding-left: 1em; padding-right: 1em; text-align: center; vertical-align: top\">2015-03-12 00:00:00+00:00</td>\n",
       "        <td style=\"padding-left: 1em; padding-right: 1em; text-align: center; vertical-align: top\">323000.0</td>\n",
       "        <td style=\"padding-left: 1em; padding-right: 1em; text-align: center; vertical-align: top\">3.0</td>\n",
       "        <td style=\"padding-left: 1em; padding-right: 1em; text-align: center; vertical-align: top\">2.5</td>\n",
       "        <td style=\"padding-left: 1em; padding-right: 1em; text-align: center; vertical-align: top\">1890.0</td>\n",
       "        <td style=\"padding-left: 1em; padding-right: 1em; text-align: center; vertical-align: top\">6560.0</td>\n",
       "        <td style=\"padding-left: 1em; padding-right: 1em; text-align: center; vertical-align: top\">2.0</td>\n",
       "        <td style=\"padding-left: 1em; padding-right: 1em; text-align: center; vertical-align: top\">0</td>\n",
       "    </tr>\n",
       "</table>\n",
       "<table frame=\"box\" rules=\"cols\">\n",
       "    <tr>\n",
       "        <th style=\"padding-left: 1em; padding-right: 1em; text-align: center\">view</th>\n",
       "        <th style=\"padding-left: 1em; padding-right: 1em; text-align: center\">condition</th>\n",
       "        <th style=\"padding-left: 1em; padding-right: 1em; text-align: center\">grade</th>\n",
       "        <th style=\"padding-left: 1em; padding-right: 1em; text-align: center\">sqft_above</th>\n",
       "        <th style=\"padding-left: 1em; padding-right: 1em; text-align: center\">sqft_basement</th>\n",
       "        <th style=\"padding-left: 1em; padding-right: 1em; text-align: center\">yr_built</th>\n",
       "        <th style=\"padding-left: 1em; padding-right: 1em; text-align: center\">yr_renovated</th>\n",
       "        <th style=\"padding-left: 1em; padding-right: 1em; text-align: center\">zipcode</th>\n",
       "        <th style=\"padding-left: 1em; padding-right: 1em; text-align: center\">lat</th>\n",
       "    </tr>\n",
       "    <tr>\n",
       "        <td style=\"padding-left: 1em; padding-right: 1em; text-align: center; vertical-align: top\">0</td>\n",
       "        <td style=\"padding-left: 1em; padding-right: 1em; text-align: center; vertical-align: top\">3</td>\n",
       "        <td style=\"padding-left: 1em; padding-right: 1em; text-align: center; vertical-align: top\">7.0</td>\n",
       "        <td style=\"padding-left: 1em; padding-right: 1em; text-align: center; vertical-align: top\">1180.0</td>\n",
       "        <td style=\"padding-left: 1em; padding-right: 1em; text-align: center; vertical-align: top\">0.0</td>\n",
       "        <td style=\"padding-left: 1em; padding-right: 1em; text-align: center; vertical-align: top\">1955.0</td>\n",
       "        <td style=\"padding-left: 1em; padding-right: 1em; text-align: center; vertical-align: top\">0.0</td>\n",
       "        <td style=\"padding-left: 1em; padding-right: 1em; text-align: center; vertical-align: top\">98178</td>\n",
       "        <td style=\"padding-left: 1em; padding-right: 1em; text-align: center; vertical-align: top\">47.51123398</td>\n",
       "    </tr>\n",
       "    <tr>\n",
       "        <td style=\"padding-left: 1em; padding-right: 1em; text-align: center; vertical-align: top\">0</td>\n",
       "        <td style=\"padding-left: 1em; padding-right: 1em; text-align: center; vertical-align: top\">3</td>\n",
       "        <td style=\"padding-left: 1em; padding-right: 1em; text-align: center; vertical-align: top\">7.0</td>\n",
       "        <td style=\"padding-left: 1em; padding-right: 1em; text-align: center; vertical-align: top\">2170.0</td>\n",
       "        <td style=\"padding-left: 1em; padding-right: 1em; text-align: center; vertical-align: top\">400.0</td>\n",
       "        <td style=\"padding-left: 1em; padding-right: 1em; text-align: center; vertical-align: top\">1951.0</td>\n",
       "        <td style=\"padding-left: 1em; padding-right: 1em; text-align: center; vertical-align: top\">1991.0</td>\n",
       "        <td style=\"padding-left: 1em; padding-right: 1em; text-align: center; vertical-align: top\">98125</td>\n",
       "        <td style=\"padding-left: 1em; padding-right: 1em; text-align: center; vertical-align: top\">47.72102274</td>\n",
       "    </tr>\n",
       "    <tr>\n",
       "        <td style=\"padding-left: 1em; padding-right: 1em; text-align: center; vertical-align: top\">0</td>\n",
       "        <td style=\"padding-left: 1em; padding-right: 1em; text-align: center; vertical-align: top\">3</td>\n",
       "        <td style=\"padding-left: 1em; padding-right: 1em; text-align: center; vertical-align: top\">6.0</td>\n",
       "        <td style=\"padding-left: 1em; padding-right: 1em; text-align: center; vertical-align: top\">770.0</td>\n",
       "        <td style=\"padding-left: 1em; padding-right: 1em; text-align: center; vertical-align: top\">0.0</td>\n",
       "        <td style=\"padding-left: 1em; padding-right: 1em; text-align: center; vertical-align: top\">1933.0</td>\n",
       "        <td style=\"padding-left: 1em; padding-right: 1em; text-align: center; vertical-align: top\">0.0</td>\n",
       "        <td style=\"padding-left: 1em; padding-right: 1em; text-align: center; vertical-align: top\">98028</td>\n",
       "        <td style=\"padding-left: 1em; padding-right: 1em; text-align: center; vertical-align: top\">47.73792661</td>\n",
       "    </tr>\n",
       "    <tr>\n",
       "        <td style=\"padding-left: 1em; padding-right: 1em; text-align: center; vertical-align: top\">0</td>\n",
       "        <td style=\"padding-left: 1em; padding-right: 1em; text-align: center; vertical-align: top\">5</td>\n",
       "        <td style=\"padding-left: 1em; padding-right: 1em; text-align: center; vertical-align: top\">7.0</td>\n",
       "        <td style=\"padding-left: 1em; padding-right: 1em; text-align: center; vertical-align: top\">1050.0</td>\n",
       "        <td style=\"padding-left: 1em; padding-right: 1em; text-align: center; vertical-align: top\">910.0</td>\n",
       "        <td style=\"padding-left: 1em; padding-right: 1em; text-align: center; vertical-align: top\">1965.0</td>\n",
       "        <td style=\"padding-left: 1em; padding-right: 1em; text-align: center; vertical-align: top\">0.0</td>\n",
       "        <td style=\"padding-left: 1em; padding-right: 1em; text-align: center; vertical-align: top\">98136</td>\n",
       "        <td style=\"padding-left: 1em; padding-right: 1em; text-align: center; vertical-align: top\">47.52082</td>\n",
       "    </tr>\n",
       "    <tr>\n",
       "        <td style=\"padding-left: 1em; padding-right: 1em; text-align: center; vertical-align: top\">0</td>\n",
       "        <td style=\"padding-left: 1em; padding-right: 1em; text-align: center; vertical-align: top\">3</td>\n",
       "        <td style=\"padding-left: 1em; padding-right: 1em; text-align: center; vertical-align: top\">8.0</td>\n",
       "        <td style=\"padding-left: 1em; padding-right: 1em; text-align: center; vertical-align: top\">1680.0</td>\n",
       "        <td style=\"padding-left: 1em; padding-right: 1em; text-align: center; vertical-align: top\">0.0</td>\n",
       "        <td style=\"padding-left: 1em; padding-right: 1em; text-align: center; vertical-align: top\">1987.0</td>\n",
       "        <td style=\"padding-left: 1em; padding-right: 1em; text-align: center; vertical-align: top\">0.0</td>\n",
       "        <td style=\"padding-left: 1em; padding-right: 1em; text-align: center; vertical-align: top\">98074</td>\n",
       "        <td style=\"padding-left: 1em; padding-right: 1em; text-align: center; vertical-align: top\">47.61681228</td>\n",
       "    </tr>\n",
       "    <tr>\n",
       "        <td style=\"padding-left: 1em; padding-right: 1em; text-align: center; vertical-align: top\">0</td>\n",
       "        <td style=\"padding-left: 1em; padding-right: 1em; text-align: center; vertical-align: top\">3</td>\n",
       "        <td style=\"padding-left: 1em; padding-right: 1em; text-align: center; vertical-align: top\">11.0</td>\n",
       "        <td style=\"padding-left: 1em; padding-right: 1em; text-align: center; vertical-align: top\">3890.0</td>\n",
       "        <td style=\"padding-left: 1em; padding-right: 1em; text-align: center; vertical-align: top\">1530.0</td>\n",
       "        <td style=\"padding-left: 1em; padding-right: 1em; text-align: center; vertical-align: top\">2001.0</td>\n",
       "        <td style=\"padding-left: 1em; padding-right: 1em; text-align: center; vertical-align: top\">0.0</td>\n",
       "        <td style=\"padding-left: 1em; padding-right: 1em; text-align: center; vertical-align: top\">98053</td>\n",
       "        <td style=\"padding-left: 1em; padding-right: 1em; text-align: center; vertical-align: top\">47.65611835</td>\n",
       "    </tr>\n",
       "    <tr>\n",
       "        <td style=\"padding-left: 1em; padding-right: 1em; text-align: center; vertical-align: top\">0</td>\n",
       "        <td style=\"padding-left: 1em; padding-right: 1em; text-align: center; vertical-align: top\">3</td>\n",
       "        <td style=\"padding-left: 1em; padding-right: 1em; text-align: center; vertical-align: top\">7.0</td>\n",
       "        <td style=\"padding-left: 1em; padding-right: 1em; text-align: center; vertical-align: top\">1715.0</td>\n",
       "        <td style=\"padding-left: 1em; padding-right: 1em; text-align: center; vertical-align: top\">0.0</td>\n",
       "        <td style=\"padding-left: 1em; padding-right: 1em; text-align: center; vertical-align: top\">1995.0</td>\n",
       "        <td style=\"padding-left: 1em; padding-right: 1em; text-align: center; vertical-align: top\">0.0</td>\n",
       "        <td style=\"padding-left: 1em; padding-right: 1em; text-align: center; vertical-align: top\">98003</td>\n",
       "        <td style=\"padding-left: 1em; padding-right: 1em; text-align: center; vertical-align: top\">47.30972002</td>\n",
       "    </tr>\n",
       "    <tr>\n",
       "        <td style=\"padding-left: 1em; padding-right: 1em; text-align: center; vertical-align: top\">0</td>\n",
       "        <td style=\"padding-left: 1em; padding-right: 1em; text-align: center; vertical-align: top\">3</td>\n",
       "        <td style=\"padding-left: 1em; padding-right: 1em; text-align: center; vertical-align: top\">7.0</td>\n",
       "        <td style=\"padding-left: 1em; padding-right: 1em; text-align: center; vertical-align: top\">1060.0</td>\n",
       "        <td style=\"padding-left: 1em; padding-right: 1em; text-align: center; vertical-align: top\">0.0</td>\n",
       "        <td style=\"padding-left: 1em; padding-right: 1em; text-align: center; vertical-align: top\">1963.0</td>\n",
       "        <td style=\"padding-left: 1em; padding-right: 1em; text-align: center; vertical-align: top\">0.0</td>\n",
       "        <td style=\"padding-left: 1em; padding-right: 1em; text-align: center; vertical-align: top\">98198</td>\n",
       "        <td style=\"padding-left: 1em; padding-right: 1em; text-align: center; vertical-align: top\">47.40949984</td>\n",
       "    </tr>\n",
       "    <tr>\n",
       "        <td style=\"padding-left: 1em; padding-right: 1em; text-align: center; vertical-align: top\">0</td>\n",
       "        <td style=\"padding-left: 1em; padding-right: 1em; text-align: center; vertical-align: top\">3</td>\n",
       "        <td style=\"padding-left: 1em; padding-right: 1em; text-align: center; vertical-align: top\">7.0</td>\n",
       "        <td style=\"padding-left: 1em; padding-right: 1em; text-align: center; vertical-align: top\">1050.0</td>\n",
       "        <td style=\"padding-left: 1em; padding-right: 1em; text-align: center; vertical-align: top\">730.0</td>\n",
       "        <td style=\"padding-left: 1em; padding-right: 1em; text-align: center; vertical-align: top\">1960.0</td>\n",
       "        <td style=\"padding-left: 1em; padding-right: 1em; text-align: center; vertical-align: top\">0.0</td>\n",
       "        <td style=\"padding-left: 1em; padding-right: 1em; text-align: center; vertical-align: top\">98146</td>\n",
       "        <td style=\"padding-left: 1em; padding-right: 1em; text-align: center; vertical-align: top\">47.51229381</td>\n",
       "    </tr>\n",
       "    <tr>\n",
       "        <td style=\"padding-left: 1em; padding-right: 1em; text-align: center; vertical-align: top\">0</td>\n",
       "        <td style=\"padding-left: 1em; padding-right: 1em; text-align: center; vertical-align: top\">3</td>\n",
       "        <td style=\"padding-left: 1em; padding-right: 1em; text-align: center; vertical-align: top\">7.0</td>\n",
       "        <td style=\"padding-left: 1em; padding-right: 1em; text-align: center; vertical-align: top\">1890.0</td>\n",
       "        <td style=\"padding-left: 1em; padding-right: 1em; text-align: center; vertical-align: top\">0.0</td>\n",
       "        <td style=\"padding-left: 1em; padding-right: 1em; text-align: center; vertical-align: top\">2003.0</td>\n",
       "        <td style=\"padding-left: 1em; padding-right: 1em; text-align: center; vertical-align: top\">0.0</td>\n",
       "        <td style=\"padding-left: 1em; padding-right: 1em; text-align: center; vertical-align: top\">98038</td>\n",
       "        <td style=\"padding-left: 1em; padding-right: 1em; text-align: center; vertical-align: top\">47.36840673</td>\n",
       "    </tr>\n",
       "</table>\n",
       "<table frame=\"box\" rules=\"cols\">\n",
       "    <tr>\n",
       "        <th style=\"padding-left: 1em; padding-right: 1em; text-align: center\">long</th>\n",
       "        <th style=\"padding-left: 1em; padding-right: 1em; text-align: center\">sqft_living15</th>\n",
       "        <th style=\"padding-left: 1em; padding-right: 1em; text-align: center\">sqft_lot15</th>\n",
       "    </tr>\n",
       "    <tr>\n",
       "        <td style=\"padding-left: 1em; padding-right: 1em; text-align: center; vertical-align: top\">-122.25677536</td>\n",
       "        <td style=\"padding-left: 1em; padding-right: 1em; text-align: center; vertical-align: top\">1340.0</td>\n",
       "        <td style=\"padding-left: 1em; padding-right: 1em; text-align: center; vertical-align: top\">5650.0</td>\n",
       "    </tr>\n",
       "    <tr>\n",
       "        <td style=\"padding-left: 1em; padding-right: 1em; text-align: center; vertical-align: top\">-122.3188624</td>\n",
       "        <td style=\"padding-left: 1em; padding-right: 1em; text-align: center; vertical-align: top\">1690.0</td>\n",
       "        <td style=\"padding-left: 1em; padding-right: 1em; text-align: center; vertical-align: top\">7639.0</td>\n",
       "    </tr>\n",
       "    <tr>\n",
       "        <td style=\"padding-left: 1em; padding-right: 1em; text-align: center; vertical-align: top\">-122.23319601</td>\n",
       "        <td style=\"padding-left: 1em; padding-right: 1em; text-align: center; vertical-align: top\">2720.0</td>\n",
       "        <td style=\"padding-left: 1em; padding-right: 1em; text-align: center; vertical-align: top\">8062.0</td>\n",
       "    </tr>\n",
       "    <tr>\n",
       "        <td style=\"padding-left: 1em; padding-right: 1em; text-align: center; vertical-align: top\">-122.39318505</td>\n",
       "        <td style=\"padding-left: 1em; padding-right: 1em; text-align: center; vertical-align: top\">1360.0</td>\n",
       "        <td style=\"padding-left: 1em; padding-right: 1em; text-align: center; vertical-align: top\">5000.0</td>\n",
       "    </tr>\n",
       "    <tr>\n",
       "        <td style=\"padding-left: 1em; padding-right: 1em; text-align: center; vertical-align: top\">-122.04490059</td>\n",
       "        <td style=\"padding-left: 1em; padding-right: 1em; text-align: center; vertical-align: top\">1800.0</td>\n",
       "        <td style=\"padding-left: 1em; padding-right: 1em; text-align: center; vertical-align: top\">7503.0</td>\n",
       "    </tr>\n",
       "    <tr>\n",
       "        <td style=\"padding-left: 1em; padding-right: 1em; text-align: center; vertical-align: top\">-122.00528655</td>\n",
       "        <td style=\"padding-left: 1em; padding-right: 1em; text-align: center; vertical-align: top\">4760.0</td>\n",
       "        <td style=\"padding-left: 1em; padding-right: 1em; text-align: center; vertical-align: top\">101930.0</td>\n",
       "    </tr>\n",
       "    <tr>\n",
       "        <td style=\"padding-left: 1em; padding-right: 1em; text-align: center; vertical-align: top\">-122.32704857</td>\n",
       "        <td style=\"padding-left: 1em; padding-right: 1em; text-align: center; vertical-align: top\">2238.0</td>\n",
       "        <td style=\"padding-left: 1em; padding-right: 1em; text-align: center; vertical-align: top\">6819.0</td>\n",
       "    </tr>\n",
       "    <tr>\n",
       "        <td style=\"padding-left: 1em; padding-right: 1em; text-align: center; vertical-align: top\">-122.31457273</td>\n",
       "        <td style=\"padding-left: 1em; padding-right: 1em; text-align: center; vertical-align: top\">1650.0</td>\n",
       "        <td style=\"padding-left: 1em; padding-right: 1em; text-align: center; vertical-align: top\">9711.0</td>\n",
       "    </tr>\n",
       "    <tr>\n",
       "        <td style=\"padding-left: 1em; padding-right: 1em; text-align: center; vertical-align: top\">-122.33659507</td>\n",
       "        <td style=\"padding-left: 1em; padding-right: 1em; text-align: center; vertical-align: top\">1780.0</td>\n",
       "        <td style=\"padding-left: 1em; padding-right: 1em; text-align: center; vertical-align: top\">8113.0</td>\n",
       "    </tr>\n",
       "    <tr>\n",
       "        <td style=\"padding-left: 1em; padding-right: 1em; text-align: center; vertical-align: top\">-122.0308176</td>\n",
       "        <td style=\"padding-left: 1em; padding-right: 1em; text-align: center; vertical-align: top\">2390.0</td>\n",
       "        <td style=\"padding-left: 1em; padding-right: 1em; text-align: center; vertical-align: top\">7570.0</td>\n",
       "    </tr>\n",
       "</table>\n",
       "[21613 rows x 21 columns]<br/>Note: Only the head of the SFrame is printed.<br/>You can use print_rows(num_rows=m, num_columns=n) to print more rows and columns.\n",
       "</div>"
      ],
      "text/plain": [
       "Columns:\n",
       "\tid\tstr\n",
       "\tdate\tdatetime\n",
       "\tprice\tfloat\n",
       "\tbedrooms\tfloat\n",
       "\tbathrooms\tfloat\n",
       "\tsqft_living\tfloat\n",
       "\tsqft_lot\tfloat\n",
       "\tfloors\tfloat\n",
       "\twaterfront\tint\n",
       "\tview\tint\n",
       "\tcondition\tint\n",
       "\tgrade\tfloat\n",
       "\tsqft_above\tfloat\n",
       "\tsqft_basement\tfloat\n",
       "\tyr_built\tfloat\n",
       "\tyr_renovated\tfloat\n",
       "\tzipcode\tstr\n",
       "\tlat\tfloat\n",
       "\tlong\tfloat\n",
       "\tsqft_living15\tfloat\n",
       "\tsqft_lot15\tfloat\n",
       "\n",
       "Rows: 21613\n",
       "\n",
       "Data:\n",
       "+------------+---------------------------+-----------+----------+-----------+\n",
       "|     id     |            date           |   price   | bedrooms | bathrooms |\n",
       "+------------+---------------------------+-----------+----------+-----------+\n",
       "| 7129300520 | 2014-10-13 00:00:00+00:00 |  221900.0 |   3.0    |    1.0    |\n",
       "| 6414100192 | 2014-12-09 00:00:00+00:00 |  538000.0 |   3.0    |    2.25   |\n",
       "| 5631500400 | 2015-02-25 00:00:00+00:00 |  180000.0 |   2.0    |    1.0    |\n",
       "| 2487200875 | 2014-12-09 00:00:00+00:00 |  604000.0 |   4.0    |    3.0    |\n",
       "| 1954400510 | 2015-02-18 00:00:00+00:00 |  510000.0 |   3.0    |    2.0    |\n",
       "| 7237550310 | 2014-05-12 00:00:00+00:00 | 1225000.0 |   4.0    |    4.5    |\n",
       "| 1321400060 | 2014-06-27 00:00:00+00:00 |  257500.0 |   3.0    |    2.25   |\n",
       "| 2008000270 | 2015-01-15 00:00:00+00:00 |  291850.0 |   3.0    |    1.5    |\n",
       "| 2414600126 | 2015-04-15 00:00:00+00:00 |  229500.0 |   3.0    |    1.0    |\n",
       "| 3793500160 | 2015-03-12 00:00:00+00:00 |  323000.0 |   3.0    |    2.5    |\n",
       "+------------+---------------------------+-----------+----------+-----------+\n",
       "+-------------+----------+--------+------------+------+-----------+-------+\n",
       "| sqft_living | sqft_lot | floors | waterfront | view | condition | grade |\n",
       "+-------------+----------+--------+------------+------+-----------+-------+\n",
       "|    1180.0   |  5650.0  |  1.0   |     0      |  0   |     3     |  7.0  |\n",
       "|    2570.0   |  7242.0  |  2.0   |     0      |  0   |     3     |  7.0  |\n",
       "|    770.0    | 10000.0  |  1.0   |     0      |  0   |     3     |  6.0  |\n",
       "|    1960.0   |  5000.0  |  1.0   |     0      |  0   |     5     |  7.0  |\n",
       "|    1680.0   |  8080.0  |  1.0   |     0      |  0   |     3     |  8.0  |\n",
       "|    5420.0   | 101930.0 |  1.0   |     0      |  0   |     3     |  11.0 |\n",
       "|    1715.0   |  6819.0  |  2.0   |     0      |  0   |     3     |  7.0  |\n",
       "|    1060.0   |  9711.0  |  1.0   |     0      |  0   |     3     |  7.0  |\n",
       "|    1780.0   |  7470.0  |  1.0   |     0      |  0   |     3     |  7.0  |\n",
       "|    1890.0   |  6560.0  |  2.0   |     0      |  0   |     3     |  7.0  |\n",
       "+-------------+----------+--------+------------+------+-----------+-------+\n",
       "+------------+---------------+----------+--------------+---------+-------------+\n",
       "| sqft_above | sqft_basement | yr_built | yr_renovated | zipcode |     lat     |\n",
       "+------------+---------------+----------+--------------+---------+-------------+\n",
       "|   1180.0   |      0.0      |  1955.0  |     0.0      |  98178  | 47.51123398 |\n",
       "|   2170.0   |     400.0     |  1951.0  |    1991.0    |  98125  | 47.72102274 |\n",
       "|   770.0    |      0.0      |  1933.0  |     0.0      |  98028  | 47.73792661 |\n",
       "|   1050.0   |     910.0     |  1965.0  |     0.0      |  98136  |   47.52082  |\n",
       "|   1680.0   |      0.0      |  1987.0  |     0.0      |  98074  | 47.61681228 |\n",
       "|   3890.0   |     1530.0    |  2001.0  |     0.0      |  98053  | 47.65611835 |\n",
       "|   1715.0   |      0.0      |  1995.0  |     0.0      |  98003  | 47.30972002 |\n",
       "|   1060.0   |      0.0      |  1963.0  |     0.0      |  98198  | 47.40949984 |\n",
       "|   1050.0   |     730.0     |  1960.0  |     0.0      |  98146  | 47.51229381 |\n",
       "|   1890.0   |      0.0      |  2003.0  |     0.0      |  98038  | 47.36840673 |\n",
       "+------------+---------------+----------+--------------+---------+-------------+\n",
       "+---------------+---------------+-----+\n",
       "|      long     | sqft_living15 | ... |\n",
       "+---------------+---------------+-----+\n",
       "| -122.25677536 |     1340.0    | ... |\n",
       "|  -122.3188624 |     1690.0    | ... |\n",
       "| -122.23319601 |     2720.0    | ... |\n",
       "| -122.39318505 |     1360.0    | ... |\n",
       "| -122.04490059 |     1800.0    | ... |\n",
       "| -122.00528655 |     4760.0    | ... |\n",
       "| -122.32704857 |     2238.0    | ... |\n",
       "| -122.31457273 |     1650.0    | ... |\n",
       "| -122.33659507 |     1780.0    | ... |\n",
       "|  -122.0308176 |     2390.0    | ... |\n",
       "+---------------+---------------+-----+\n",
       "[21613 rows x 21 columns]\n",
       "Note: Only the head of the SFrame is printed.\n",
       "You can use print_rows(num_rows=m, num_columns=n) to print more rows and columns."
      ]
     },
     "execution_count": 3,
     "metadata": {},
     "output_type": "execute_result"
    }
   ],
   "source": [
    "sales"
   ]
  },
  {
   "cell_type": "markdown",
   "metadata": {},
   "source": [
    "## Explore the data from housing sales"
   ]
  },
  {
   "cell_type": "code",
   "execution_count": 4,
   "metadata": {},
   "outputs": [
    {
     "name": "stdout",
     "output_type": "stream",
     "text": [
      "Canvas is accessible via web browser at the URL: http://localhost:33471/index.html\n",
      "Opening Canvas in default web browser.\n"
     ]
    }
   ],
   "source": [
    "sales.show()"
   ]
  },
  {
   "cell_type": "code",
   "execution_count": 22,
   "metadata": {},
   "outputs": [
    {
     "data": {
      "application/javascript": [
       "$(\"head\").append($(\"<link/>\").attr({\n",
       "  rel:  \"stylesheet\",\n",
       "  type: \"text/css\",\n",
       "  href: \"//cdnjs.cloudflare.com/ajax/libs/font-awesome/4.1.0/css/font-awesome.min.css\"\n",
       "}));\n",
       "$(\"head\").append($(\"<link/>\").attr({\n",
       "  rel:  \"stylesheet\",\n",
       "  type: \"text/css\",\n",
       "  href: \"https://static.turi.com/products/graphlab-create/2.1/canvas/css/canvas.css\"\n",
       "}));\n",
       "\n",
       "            (function(){\n",
       "\n",
       "                var e = null;\n",
       "                if (typeof element == 'undefined') {\n",
       "                    var scripts = document.getElementsByTagName('script');\n",
       "                    var thisScriptTag = scripts[scripts.length-1];\n",
       "                    var parentDiv = thisScriptTag.parentNode;\n",
       "                    e = document.createElement('div');\n",
       "                    parentDiv.appendChild(e);\n",
       "                } else {\n",
       "                    e = element[0];\n",
       "                }\n",
       "\n",
       "                if (typeof requirejs !== 'undefined') {\n",
       "                    // disable load timeout; ipython_app.js is large and can take a while to load.\n",
       "                    requirejs.config({waitSeconds: 0});\n",
       "                }\n",
       "\n",
       "                require(['https://static.turi.com/products/graphlab-create/2.1/canvas/js/ipython_app.js'], function(IPythonApp){\n",
       "                    var app = new IPythonApp();\n",
       "                    app.attachView('sframe','Plots', {\"selected_variable\": {\"name\": [\"sales\"], \"descriptives\": {\"rows\": 21613, \"columns\": 21}, \"view_component\": \"Plots\", \"view_file\": \"sframe\", \"view_params\": {\"y\": \"price\", \"x\": \"sqft_living\", \"columns\": [\"id\", \"date\", \"price\", \"bedrooms\", \"bathrooms\", \"sqft_living\", \"sqft_lot\", \"floors\", \"waterfront\", \"view\", \"condition\", \"grade\", \"sqft_above\", \"sqft_basement\", \"yr_built\", \"yr_renovated\", \"zipcode\", \"lat\", \"long\", \"sqft_living15\", \"sqft_lot15\"], \"view\": \"Scatter Plot\"}, \"view_components\": [\"Summary\", \"Table\", \"Bar Chart\", \"BoxWhisker Plot\", \"Line Chart\", \"Scatter Plot\", \"Heat Map\", \"Plots\"], \"type\": \"SFrame\", \"columns\": [{\"dtype\": \"str\", \"name\": \"id\"}, {\"dtype\": \"datetime\", \"name\": \"date\"}, {\"dtype\": \"float\", \"name\": \"price\"}, {\"dtype\": \"float\", \"name\": \"bedrooms\"}, {\"dtype\": \"float\", \"name\": \"bathrooms\"}, {\"dtype\": \"float\", \"name\": \"sqft_living\"}, {\"dtype\": \"float\", \"name\": \"sqft_lot\"}, {\"dtype\": \"float\", \"name\": \"floors\"}, {\"dtype\": \"int\", \"name\": \"waterfront\"}, {\"dtype\": \"int\", \"name\": \"view\"}, {\"dtype\": \"int\", \"name\": \"condition\"}, {\"dtype\": \"float\", \"name\": \"grade\"}, {\"dtype\": \"float\", \"name\": \"sqft_above\"}, {\"dtype\": \"float\", \"name\": \"sqft_basement\"}, {\"dtype\": \"float\", \"name\": \"yr_built\"}, {\"dtype\": \"float\", \"name\": \"yr_renovated\"}, {\"dtype\": \"str\", \"name\": \"zipcode\"}, {\"dtype\": \"float\", \"name\": \"lat\"}, {\"dtype\": \"float\", \"name\": \"long\"}, {\"dtype\": \"float\", \"name\": \"sqft_living15\"}, {\"dtype\": \"float\", \"name\": \"sqft_lot15\"}], \"column_identifiers\": [\"bathrooms\", \"sqft_living15\", \"sqft_above\", \"grade\", \"yr_built\", \"price\", \"bedrooms\", \"zipcode\", \"long\", \"id\", \"sqft_lot15\", \"sqft_living\", \"floors\", \"sqft_lot\", \"date\", \"waterfront\", \"sqft_basement\", \"yr_renovated\", \"lat\", \"condition\", \"view\"]}, \"complete\": 1, \"ipython\": true, \"progress\": 1.0, \"data\": [[1740.0, 260000.0], [1140.0, 380000.0], [770.0, 180000.0], [3030.0, 682000.0], [2300.0, 737000.0], [5420.0, 1225000.0], [2450.0, 712198.0], [2910.0, 550000.0], [2760.0, 424950.0], [1430.0, 221000.0], [1690.0, 277500.0], [1590.0, 579000.0], [1465.0, 489000.0], [2220.0, 1425000.0], [1820.0, 327500.0], [2660.0, 335000.0], [3680.0, 1378000.0], [3640.0, 555000.0], [2050.0, 360000.0], [2650.0, 695000.0], [1670.0, 252000.0], [2495.0, 436000.0], [2270.0, 285000.0], [720.0, 285000.0], [970.0, 209950.0], [1060.0, 403504.0], [2280.0, 649800.0], [1630.0, 265000.0], [1520.0, 438000.0], [2130.0, 310000.0], [1720.0, 380000.0], [860.0, 340000.0], [3250.0, 689000.0], [2240.0, 337000.0], [3130.0, 320000.0], [1100.0, 516500.0], [2520.0, 449888.0], [2360.0, 871000.0], [1900.0, 257000.0], [1370.0, 168000.0], [1520.0, 295000.0], [3740.0, 789000.0], [2460.0, 347500.0], [3300.0, 510000.0], [2660.0, 667400.0], [2100.0, 207000.0], [960.0, 208950.0], [1540.0, 340000.0], [1930.0, 583000.0], [1940.0, 807000.0], [1190.0, 228000.0], [2110.0, 445000.0], [1960.0, 520000.0], [2300.0, 400000.0], [2910.0, 610000.0], [1020.0, 187000.0], [3330.0, 1375000.0], [3190.0, 765000.0], [1500.0, 431000.0], [1190.0, 441000.0], [1510.0, 230000.0], [1760.0, 780500.0], [2370.0, 338000.0], [1840.0, 432100.0], [4310.0, 1735000.0], [1920.0, 1011000.0], [800.0, 250000.0], [1750.0, 707900.0], [750.0, 338000.0], [3390.0, 775000.0], [4770.0, 1040000.0], [1180.0, 390000.0], [2940.0, 605000.0], [4290.0, 1705000.0], [1930.0, 855000.0], [1050.0, 198500.0], [1760.0, 317000.0], [1530.0, 500000.0], [1600.0, 265000.0], [2350.0, 430000.0], [2980.0, 850000.0], [1360.0, 235000.0], [3090.0, 659000.0], [1540.0, 259950.0], [1470.0, 248000.0], [1720.0, 575000.0], [1630.0, 475000.0], [1350.0, 337500.0], [1880.0, 355000.0], [1030.0, 335000.0], [1720.0, 935000.0], [1980.0, 700000.0], [1320.0, 575000.0], [1930.0, 495000.0], [3830.0, 1700000.0], [1820.0, 325000.0], [1880.0, 455000.0], [2600.0, 300000.0], [1550.0, 835000.0], [820.0, 150000.0], [3100.0, 975000.0], [2780.0, 563500.0], [3000.0, 394000.0], [1940.0, 299950.0], [3450.0, 850000.0], [3360.0, 845000.0], [1620.0, 386000.0], [2340.0, 396000.0], [2350.0, 235000.0], [2760.0, 847093.0], [2010.0, 639000.0], [1510.0, 254000.0], [1540.0, 272500.0], [1120.0, 464600.0], [1350.0, 276900.0], [2650.0, 545000.0], [1800.0, 295000.0], [2448.0, 447055.0], [2580.0, 332220.0], [2780.0, 645000.0], [3330.0, 760000.0], [2730.0, 535000.0], [1860.0, 430000.0], [2920.0, 1650000.0], [3720.0, 864000.0], [1650.0, 370000.0], [1960.0, 599000.0], [2610.0, 754950.0], [2250.0, 411000.0], [2190.0, 524000.0], [2750.0, 840000.0], [2490.0, 868500.0], [1030.0, 326000.0], [1130.0, 325000.0], [1380.0, 350000.0], [2538.0, 335606.0], [2020.0, 220000.0], [2340.0, 465950.0], [1510.0, 800000.0], [3110.0, 700000.0], [2560.0, 658588.0], [1070.0, 542000.0], [2140.0, 680000.0], [900.0, 89000.0], [1610.0, 390000.0], [4010.0, 1385000.0], [1010.0, 279000.0], [1730.0, 465000.0], [1640.0, 280000.0], [5430.0, 1240000.0], [1220.0, 467000.0], [2860.0, 1450000.0], [2010.0, 700000.0], [1590.0, 599000.0], [700.0, 350000.0], [1110.0, 406000.0], [1800.0, 286000.0], [1606.0, 417250.0], [3750.0, 1310000.0], [4570.0, 1038000.0], [1060.0, 352750.0], [1970.0, 385000.0], [3400.0, 900000.0], [3340.0, 670000.0], [1980.0, 912000.0], [1640.0, 349950.0], [1990.0, 334500.0], [2920.0, 707000.0], [1540.0, 445000.0], [2605.0, 1017000.0], [870.0, 276000.0], [1930.0, 690000.0], [1850.0, 611000.0], [1200.0, 210000.0], [1510.0, 366000.0], [3220.0, 355000.0], [1140.0, 329950.0], [1430.0, 800000.0], [3630.0, 500000.0], [1860.0, 265000.0], [3030.0, 557865.0], [1220.0, 215500.0], [4850.0, 3000000.0], [2790.0, 970000.0], [1770.0, 490000.0], [1700.0, 280000.0], [1240.0, 345000.0], [1350.0, 410000.0], [3390.0, 350000.0], [930.0, 269500.0], [1820.0, 525000.0], [1340.0, 520000.0], [800.0, 250000.0], [2790.0, 700000.0], [1840.0, 639000.0], [1420.0, 205000.0], [2180.0, 1410000.0], [1390.0, 267500.0], [2140.0, 420000.0], [1600.0, 490000.0], [860.0, 210000.0], [3460.0, 858450.0], [1230.0, 273000.0], [1580.0, 535000.0], [3190.0, 750000.0], [1600.0, 440500.0], [1520.0, 650000.0], [1850.0, 580000.0], [1070.0, 400800.0], [2440.0, 565000.0], [3160.0, 589900.0], [2170.0, 913000.0], [2260.0, 400000.0], [1260.0, 353000.0], [2370.0, 404000.0], [1110.0, 217000.0], [3390.0, 460000.0], [4120.0, 1851000.0], [3580.0, 711600.0], [2510.0, 448000.0], [3210.0, 870000.0], [2100.0, 298450.0], [4220.0, 633000.0], [4390.0, 1278000.0], [1850.0, 510000.0], [1790.0, 390000.0], [4410.0, 1320000.0], [2810.0, 855000.0], [2340.0, 459950.0], [1940.0, 725000.0], [1460.0, 175000.0], [1230.0, 278000.0], [1830.0, 439000.0], [4710.0, 2180000.0], [1370.0, 270000.0], [3760.0, 1025000.0], [790.0, 435000.0], [1350.0, 261000.0], [1610.0, 292500.0], [1880.0, 554500.0], [2060.0, 648752.0], [1310.0, 241500.0], [3090.0, 751000.0], [2010.0, 322200.0], [1530.0, 410000.0], [1270.0, 335000.0], [1040.0, 200000.0], [1900.0, 667000.0], [2340.0, 640000.0], [900.0, 553000.0], [1900.0, 921500.0], [2240.0, 497000.0], [2480.0, 906000.0], [2700.0, 314900.0], [4210.0, 884744.0], [1420.0, 592500.0], [1800.0, 416000.0], [2010.0, 282000.0], [1690.0, 281000.0], [2360.0, 702500.0], [3960.0, 2500000.0], [3260.0, 1280000.0], [1390.0, 234000.0], [990.0, 430000.0], [1500.0, 578000.0], [3590.0, 879000.0], [2160.0, 345500.0], [1190.0, 260000.0], [2100.0, 525000.0], [1160.0, 375000.0], [2500.0, 639000.0], [2540.0, 750000.0], [720.0, 330000.0], [1840.0, 645000.0], [6390.0, 2466350.0], [1760.0, 625000.0], [1420.0, 310000.0], [3820.0, 770000.0], [1584.0, 263000.0], [940.0, 185900.0], [1880.0, 325000.0], [860.0, 170000.0], [1550.0, 313000.0], [1950.0, 409000.0], [2300.0, 303000.0], [1320.0, 395000.0], [4060.0, 1795000.0], [2630.0, 1045000.0], [1130.0, 270000.0], [1370.0, 524000.0], [3180.0, 1236300.0], [1370.0, 593500.0], [2560.0, 700500.0], [1520.0, 672600.0], [1830.0, 210000.0], [720.0, 280000.0], [5844.0, 1275000.0], [780.0, 370000.0], [1800.0, 420000.0], [1960.0, 275000.0], [1670.0, 660000.0], [710.0, 480000.0], [1790.0, 455000.0], [4590.0, 1710000.0], [2120.0, 300000.0], [2000.0, 225000.0], [1830.0, 524950.0], [2440.0, 483000.0], [2410.0, 320000.0], [1220.0, 348580.0], [730.0, 325000.0], [2640.0, 387990.0], [3190.0, 419000.0], [1690.0, 257500.0], [1890.0, 420000.0], [1700.0, 314500.0], [920.0, 400000.0], [1830.0, 360000.0], [3580.0, 700000.0], [1820.0, 515000.0], [390.0, 228000.0], [3420.0, 757500.0], [2810.0, 812500.0], [2620.0, 539000.0], [2500.0, 415000.0], [1420.0, 400000.0], [1660.0, 225000.0], [1910.0, 415000.0], [700.0, 155000.0], [1100.0, 420000.0], [2320.0, 447500.0], [880.0, 291500.0], [1995.0, 266000.0], [990.0, 120000.0], [2490.0, 940000.0], [3440.0, 610000.0], [1680.0, 935000.0], [2170.0, 250000.0], [880.0, 378500.0], [3040.0, 640000.0], [1730.0, 575700.0], [3290.0, 899950.0], [1250.0, 405000.0], [1210.0, 678500.0], [1400.0, 358000.0], [1540.0, 565000.0], [2660.0, 310000.0], [2796.0, 349950.0], [1300.0, 700000.0], [720.0, 314000.0], [1930.0, 795000.0], [2650.0, 536000.0], [5320.0, 1062500.0], [1610.0, 238000.0], [1480.0, 468000.0], [1540.0, 525000.0], [820.0, 375000.0], [1420.0, 408000.0], [2330.0, 550000.0], [3310.0, 999950.0], [1060.0, 254000.0], [1170.0, 564000.0], [2440.0, 765000.0], [2280.0, 950000.0], [1320.0, 255000.0], [2020.0, 650000.0], [1150.0, 370000.0], [2860.0, 1200000.0], [1820.0, 275000.0], [2600.0, 330000.0], [2880.0, 920000.0], [2230.0, 490000.0], [1020.0, 214000.0], [600.0, 135000.0], [1870.0, 375000.0], [2190.0, 699900.0], [3560.0, 907687.0], [2040.0, 545000.0], [2490.0, 608000.0], [6300.0, 2750000.0], [1870.0, 595888.0], [2670.0, 437850.0], [1170.0, 352500.0], [2815.0, 491000.0], [3610.0, 587000.0], [930.0, 178500.0], [2760.0, 834538.0], [1650.0, 252350.0], [1710.0, 211000.0], [1580.0, 221347.0], [950.0, 339000.0], [1570.0, 214950.0], [1940.0, 815000.0], [1300.0, 455000.0], [1460.0, 240000.0], [1210.0, 457500.0], [1400.0, 340000.0], [3430.0, 960000.0], [2160.0, 378750.0], [1530.0, 269900.0], [1130.0, 207000.0], [1570.0, 800000.0], [1720.0, 521000.0], [1620.0, 700000.0], [1390.0, 469000.0], [2390.0, 360000.0], [1650.0, 265000.0], [1000.0, 335000.0], [1340.0, 176000.0], [1610.0, 280000.0], [2880.0, 1538000.0], [2000.0, 710000.0], [2990.0, 632925.0], [630.0, 148000.0], [1260.0, 249000.0], [4420.0, 2328000.0], [1650.0, 547500.0], [990.0, 246000.0], [3010.0, 419000.0], [1710.0, 482000.0], [2500.0, 808000.0], [1600.0, 384500.0], [1800.0, 390000.0], [1790.0, 366000.0], [2270.0, 624900.0], [1440.0, 430000.0], [2470.0, 700000.0], [1620.0, 272167.0], [1870.0, 575000.0], [1950.0, 560000.0], [2920.0, 859000.0], [3470.0, 475000.0], [3190.0, 544800.0], [3620.0, 680000.0], [2050.0, 300000.0], [2350.0, 400000.0], [790.0, 250275.0], [3310.0, 1100000.0], [1010.0, 315000.0], [710.0, 399950.0], [1110.0, 210000.0], [1440.0, 405000.0], [2460.0, 276000.0], [2020.0, 554729.0], [870.0, 245000.0], [2979.0, 912000.0], [3520.0, 1500000.0], [1320.0, 256500.0], [1060.0, 216500.0], [1370.0, 203000.0], [2220.0, 495000.0], [3650.0, 1518634.0], [3390.0, 583000.0], [1510.0, 247000.0], [1700.0, 378000.0], [3390.0, 490000.0], [2880.0, 579950.0], [2390.0, 790000.0], [2460.0, 355000.0], [1480.0, 466800.0], [1840.0, 248000.0], [1650.0, 402500.0], [1830.0, 273000.0], [1320.0, 425000.0], [3786.0, 1379900.0], [2010.0, 400000.0], [2910.0, 504058.0], [1390.0, 199000.0], [1010.0, 230000.0], [2080.0, 898888.0], [1060.0, 212000.0], [1770.0, 241000.0], [1280.0, 249000.0], [3010.0, 839950.0], [1670.0, 256703.0], [4250.0, 2196000.0], [5170.0, 1680000.0], [1170.0, 275000.0], [1500.0, 337900.0], [1670.0, 483500.0], [880.0, 241000.0], [2060.0, 350000.0], [2900.0, 520000.0], [2253.0, 385000.0], [900.0, 178500.0], [1540.0, 273000.0], [1970.0, 340000.0], [1320.0, 420000.0], [1800.0, 680000.0], [1840.0, 285000.0], [2030.0, 910000.0], [1620.0, 475000.0], [1720.0, 622200.0], [3830.0, 860000.0], [2600.0, 452000.0], [2200.0, 457000.0], [1130.0, 220000.0], [1030.0, 455000.0], [1440.0, 600000.0], [2180.0, 545000.0], [3600.0, 643500.0], [3180.0, 775000.0], [2220.0, 382450.0], [2070.0, 312000.0], [2380.0, 886000.0], [3360.0, 735000.0], [3440.0, 549000.0], [2150.0, 392500.0], [2500.0, 430000.0], [4030.0, 1485000.0], [1680.0, 345000.0], [800.0, 335950.0], [3420.0, 725000.0], [890.0, 328000.0], [1470.0, 687015.0], [940.0, 265000.0], [1190.0, 587100.0], [1950.0, 287600.0], [2200.0, 698000.0], [1560.0, 285000.0], [1980.0, 703300.0], [2000.0, 540000.0], [2570.0, 490000.0], [2730.0, 570000.0], [2420.0, 760000.0], [2050.0, 825000.0], [3040.0, 650000.0], [2280.0, 530000.0], [1590.0, 250000.0], [2530.0, 354950.0], [2160.0, 355000.0], [2020.0, 345000.0], [2550.0, 415000.0], [1050.0, 285000.0], [1850.0, 469500.0], [3230.0, 2110000.0], [840.0, 361500.0], [2885.0, 605000.0], [1950.0, 425000.0], [2570.0, 439000.0], [2600.0, 444500.0], [1460.0, 220000.0], [1160.0, 775000.0], [1250.0, 410000.0], [3450.0, 805000.0], [1240.0, 352499.0], [1860.0, 535000.0], [2170.0, 510000.0], [1330.0, 372000.0], [1270.0, 611000.0], [2880.0, 560000.0], [2220.0, 558000.0], [2060.0, 415000.0], [3120.0, 800000.0], [1730.0, 299000.0], [2680.0, 502000.0], [770.0, 290000.0], [2340.0, 438000.0], [1050.0, 123000.0], [1740.0, 289950.0], [1750.0, 432000.0], [3370.0, 730000.0], [2190.0, 980000.0], [1620.0, 249950.0], [1770.0, 345000.0], [1840.0, 435000.0], [1780.0, 395000.0], [3520.0, 795000.0], [2050.0, 245000.0], [3880.0, 506000.0], [1390.0, 374150.0], [2110.0, 305495.0], [1690.0, 356200.0], [2710.0, 668500.0], [760.0, 447000.0], [1610.0, 269000.0], [2480.0, 555000.0], [2140.0, 280000.0], [1050.0, 415000.0], [2030.0, 430000.0], [2340.0, 1568000.0], [990.0, 285000.0], [3270.0, 735000.0], [1780.0, 200000.0], [2242.0, 329900.0], [2560.0, 390000.0], [2310.0, 370000.0], [2230.0, 333700.0], [2040.0, 500000.0], [1200.0, 478000.0], [1540.0, 278500.0], [2240.0, 440000.0], [1830.0, 312500.0], [1430.0, 255000.0], [1720.0, 404000.0], [3700.0, 889950.0], [2540.0, 489950.0], [3470.0, 1320000.0], [3100.0, 905000.0], [1410.0, 350000.0], [2200.0, 205000.0], [2420.0, 399950.0], [1280.0, 395000.0], [1440.0, 460000.0], [1010.0, 180000.0], [1790.0, 432100.0], [4290.0, 792500.0], [3030.0, 820000.0], [1190.0, 203000.0], [2770.0, 700000.0], [2680.0, 400000.0], [4230.0, 2075000.0], [1560.0, 273500.0], [1390.0, 341000.0], [3150.0, 762500.0], [1680.0, 599950.0], [3040.0, 478000.0], [3366.0, 1300000.0], [1590.0, 290000.0], [4080.0, 1050000.0], [3160.0, 1078000.0], [2260.0, 900000.0], [1580.0, 299980.0], [1760.0, 605000.0], [3010.0, 433495.0], [3980.0, 1765000.0], [1950.0, 785000.0], [1740.0, 255000.0], [2590.0, 396500.0], [1639.0, 450000.0], [1950.0, 438000.0], [550.0, 290000.0], [1960.0, 402000.0], [2690.0, 650000.0], [1040.0, 225000.0], [2870.0, 560000.0], [1820.0, 480000.0], [2090.0, 775000.0], [2340.0, 427874.0], [2030.0, 562500.0], [2120.0, 637250.0], [1410.0, 272500.0], [1940.0, 390000.0], [1700.0, 545000.0], [1590.0, 295000.0], [2170.0, 242050.0], [2000.0, 402000.0], [1740.0, 252000.0], [1370.0, 325000.0], [1550.0, 537000.0], [1000.0, 220000.0], [2450.0, 660000.0], [2120.0, 650000.0], [1940.0, 390000.0], [1470.0, 337000.0], [1520.0, 550000.0], [1750.0, 260000.0], [1380.0, 319900.0], [1420.0, 240000.0], [1660.0, 392500.0], [3710.0, 692500.0], [1510.0, 489000.0], [1640.0, 475000.0], [1255.0, 312000.0], [2260.0, 628000.0], [990.0, 325000.0], [2190.0, 650000.0], [2870.0, 720000.0], [1420.0, 451300.0], [3080.0, 950000.0], [1550.0, 460000.0], [3320.0, 786000.0], [2230.0, 426000.0], [1840.0, 245000.0], [1800.0, 522000.0], [1610.0, 292000.0], [5860.0, 1157200.0], [1780.0, 336000.0], [1350.0, 477000.0], [1300.0, 536000.0], [2140.0, 302000.0], [1220.0, 165000.0], [1620.0, 450000.0], [2160.0, 450000.0], [1760.0, 385000.0], [2550.0, 691000.0], [930.0, 287000.0], [1630.0, 468000.0], [3270.0, 765000.0], [2550.0, 406250.0], [6085.0, 1610000.0], [650.0, 129000.0], [820.0, 527550.0], [2180.0, 275000.0], [1170.0, 183000.0], [2720.0, 635000.0], [2160.0, 550000.0], [1460.0, 601500.0], [1900.0, 855000.0], [1650.0, 251000.0], [3580.0, 665000.0], [1530.0, 607500.0], [2850.0, 450000.0], [2040.0, 265000.0], [2770.0, 550000.0], [2490.0, 899000.0], [1910.0, 528000.0], [1730.0, 187000.0], [2040.0, 1272500.0], [2200.0, 450000.0], [2090.0, 490000.0], [1820.0, 465000.0], [2000.0, 236000.0], [2460.0, 678500.0], [2370.0, 328000.0], [2190.0, 567500.0], [890.0, 682000.0], [2280.0, 525000.0], [1000.0, 332000.0], [2150.0, 550000.0], [1860.0, 539950.0], [1740.0, 339000.0], [2430.0, 650000.0], [2230.0, 550000.0], [2520.0, 350000.0], [2240.0, 590000.0], [1320.0, 535000.0], [1450.0, 499000.0], [2490.0, 705380.0], [2070.0, 262000.0], [1950.0, 525126.0], [1380.0, 740000.0], [1840.0, 540000.0], [2080.0, 300000.0], [2570.0, 762450.0], [3160.0, 795000.0], [860.0, 200000.0], [2330.0, 630000.0], [1230.0, 636000.0], [1480.0, 283000.0], [1120.0, 215000.0], [3330.0, 911100.0], [2100.0, 295000.0], [1160.0, 305000.0], [920.0, 200000.0], [2020.0, 302000.0], [2230.0, 736500.0], [910.0, 290000.0], [2590.0, 690000.0], [2040.0, 490000.0], [760.0, 110000.0], [7270.0, 2238888.0], [1780.0, 495000.0], [1000.0, 140000.0], [1120.0, 450000.0], [910.0, 200000.0], [4500.0, 1515000.0], [1600.0, 525000.0], [2770.0, 470000.0], [3320.0, 962000.0], [2540.0, 420000.0], [1580.0, 557510.0], [1530.0, 315000.0], [2330.0, 450000.0], [4080.0, 2288000.0], [2860.0, 751000.0], [1280.0, 272925.0], [2380.0, 565000.0], [1220.0, 670000.0], [1910.0, 430000.0], [4340.0, 1090000.0], [1130.0, 341500.0], [2180.0, 490000.0], [1250.0, 330000.0], [3060.0, 959750.0], [1350.0, 498800.0], [1980.0, 524000.0], [3090.0, 908950.0], [1380.0, 379000.0], [940.0, 180000.0], [1390.0, 218500.0], [2630.0, 560000.0], [1240.0, 320000.0], [2030.0, 572500.0], [2110.0, 796000.0], [3270.0, 1070000.0], [3520.0, 1395000.0], [1960.0, 490000.0], [2550.0, 465000.0], [1470.0, 420000.0], [2303.0, 525000.0], [5470.0, 1612500.0], [1600.0, 625000.0], [1290.0, 214946.0], [2520.0, 420000.0], [3990.0, 740000.0], [3030.0, 1350000.0], [1000.0, 396480.0], [2680.0, 620000.0], [2040.0, 534000.0], [2060.0, 731100.0], [970.0, 172000.0], [2100.0, 375000.0], [2080.0, 467000.0], [1550.0, 385200.0], [2720.0, 368000.0], [2000.0, 433000.0], [2610.0, 678940.0], [1210.0, 570000.0], [660.0, 100000.0], [1250.0, 345000.0], [2280.0, 365000.0], [1640.0, 190000.0], [3180.0, 725000.0], [1480.0, 501000.0], [1980.0, 220000.0], [1200.0, 263700.0], [1880.0, 600000.0], [1670.0, 400000.0], [1420.0, 224097.0], [1490.0, 325000.0], [1810.0, 513000.0], [2650.0, 870000.0], [1060.0, 169500.0], [1810.0, 431000.0], [1390.0, 510000.0], [690.0, 484000.0], [1110.0, 416000.0], [1920.0, 353000.0], [1300.0, 398000.0], [2980.0, 615000.0], [1670.0, 565000.0], [2720.0, 740000.0], [1870.0, 390000.0], [3400.0, 951000.0], [1460.0, 400000.0], [1350.0, 430000.0], [2560.0, 765000.0], [1470.0, 400000.0], [1980.0, 309000.0], [2090.0, 632500.0], [1230.0, 278000.0], [1160.0, 525000.0], [1350.0, 482000.0], [1981.0, 299999.0], [1410.0, 261500.0], [2130.0, 435000.0], [4140.0, 1839900.0], [2880.0, 382000.0], [1370.0, 409950.0], [1170.0, 315000.0], [2540.0, 425000.0], [2890.0, 515000.0], [3090.0, 602500.0], [1730.0, 312000.0], [1750.0, 199500.0], [3060.0, 657000.0], [2970.0, 726888.0], [3180.0, 340000.0], [1400.0, 242025.0], [760.0, 344000.0], [2920.0, 830000.0], [1040.0, 230000.0], [1680.0, 350000.0], [4420.0, 1205000.0], [2480.0, 470000.0], [2360.0, 293000.0], [1720.0, 323000.0], [1400.0, 246000.0], [2180.0, 289999.0], [1830.0, 269800.0], [2540.0, 525000.0], [1400.0, 217000.0], [2970.0, 549995.0], [2580.0, 326000.0], [1770.0, 450000.0], [1100.0, 325000.0], [2340.0, 560000.0], [3130.0, 652500.0], [2080.0, 550000.0], [1000.0, 377000.0], [2590.0, 660000.0], [1300.0, 482000.0], [1220.0, 230000.0], [2200.0, 930000.0], [1850.0, 763000.0], [1030.0, 220000.0], [1320.0, 462600.0], [3470.0, 599000.0], [3580.0, 760000.0], [2400.0, 570000.0], [2100.0, 270000.0], [1430.0, 384000.0], [1520.0, 230000.0], [3420.0, 1195000.0], [3860.0, 1500000.0], [1090.0, 319000.0], [2240.0, 675000.0], [1050.0, 375000.0], [940.0, 230000.0], [1780.0, 588000.0], [770.0, 212000.0], [2870.0, 485000.0], [950.0, 250000.0], [2130.0, 700000.0], [1230.0, 410000.0], [1480.0, 397500.0], [2880.0, 1015000.0], [1370.0, 170000.0], [1780.0, 443000.0], [2460.0, 280000.0], [2500.0, 615000.0], [1160.0, 306000.0], [2350.0, 700000.0], [1300.0, 412250.0], [2100.0, 342500.0], [2230.0, 440000.0], [1010.0, 240000.0], [1290.0, 790000.0], [1080.0, 440000.0], [1580.0, 563000.0], [2020.0, 520000.0], [3910.0, 489000.0], [1900.0, 650000.0], [2270.0, 287000.0], [1540.0, 380000.0], [2530.0, 350000.0], [1780.0, 535000.0], [1330.0, 175000.0], [2530.0, 720000.0], [1270.0, 299000.0], [1500.0, 549000.0], [2240.0, 319950.0], [1850.0, 268000.0], [1840.0, 472800.0], [1750.0, 247000.0], [1280.0, 533000.0], [2000.0, 593000.0], [3000.0, 430000.0], [960.0, 477000.0], [3410.0, 2250000.0], [2790.0, 288000.0], [2860.0, 825050.0], [1830.0, 433000.0], [2070.0, 289950.0], [1800.0, 539000.0], [3170.0, 777000.0], [2230.0, 1321500.0], [2430.0, 369950.0], [1810.0, 540000.0], [4140.0, 2400000.0], [2060.0, 348000.0], [1460.0, 499000.0], [780.0, 285000.0], [2060.0, 574000.0], [2630.0, 589500.0], [1910.0, 435000.0], [2490.0, 370000.0], [2510.0, 225000.0], [4270.0, 1532500.0], [1460.0, 239950.0], [1900.0, 270000.0], [740.0, 392800.0], [1890.0, 282000.0], [1270.0, 335000.0], [2830.0, 540000.0], [2060.0, 323800.0], [2140.0, 571000.0], [1840.0, 390000.0], [3680.0, 679000.0], [1900.0, 515000.0], [950.0, 435000.0], [3540.0, 707000.0], [3130.0, 920000.0], [2620.0, 680000.0], [3130.0, 710000.0], [1450.0, 309000.0], [990.0, 365000.0], [1940.0, 500000.0], [3860.0, 1698888.0], [1060.0, 461000.0], [1690.0, 705000.0], [4520.0, 550000.0], [2170.0, 225000.0], [4910.0, 1222500.0], [840.0, 203000.0], [2130.0, 283000.0], [1160.0, 402723.0], [1780.0, 442573.0], [1670.0, 484950.0], [1560.0, 239950.0], [1240.0, 347000.0], [1890.0, 441000.0], [1570.0, 792000.0], [2170.0, 566000.0], [1640.0, 250000.0], [770.0, 260000.0], [1090.0, 474000.0], [1460.0, 685000.0], [1050.0, 205000.0]], \"columns\": [{\"dtype\": \"str\", \"name\": \"id\"}, {\"dtype\": \"datetime\", \"name\": \"date\"}, {\"dtype\": \"float\", \"name\": \"price\"}, {\"dtype\": \"float\", \"name\": \"bedrooms\"}, {\"dtype\": \"float\", \"name\": \"bathrooms\"}, {\"dtype\": \"float\", \"name\": \"sqft_living\"}, {\"dtype\": \"float\", \"name\": \"sqft_lot\"}, {\"dtype\": \"float\", \"name\": \"floors\"}, {\"dtype\": \"int\", \"name\": \"waterfront\"}, {\"dtype\": \"int\", \"name\": \"view\"}, {\"dtype\": \"int\", \"name\": \"condition\"}, {\"dtype\": \"float\", \"name\": \"grade\"}, {\"dtype\": \"float\", \"name\": \"sqft_above\"}, {\"dtype\": \"float\", \"name\": \"sqft_basement\"}, {\"dtype\": \"float\", \"name\": \"yr_built\"}, {\"dtype\": \"float\", \"name\": \"yr_renovated\"}, {\"dtype\": \"str\", \"name\": \"zipcode\"}, {\"dtype\": \"float\", \"name\": \"lat\"}, {\"dtype\": \"float\", \"name\": \"long\"}, {\"dtype\": \"float\", \"name\": \"sqft_living15\"}, {\"dtype\": \"float\", \"name\": \"sqft_lot15\"}]}, e);\n",
       "                });\n",
       "            })();\n",
       "        "
      ]
     },
     "metadata": {},
     "output_type": "display_data"
    }
   ],
   "source": [
    "graphlab.canvas.set_target('ipynb')\n",
    "sales.show(view=\"Scatter Plot\", x=\"sqft_living\", y= \"price\")"
   ]
  },
  {
   "cell_type": "markdown",
   "metadata": {},
   "source": [
    "## Create a simple regression model of sqft_living to price"
   ]
  },
  {
   "cell_type": "code",
   "execution_count": 23,
   "metadata": {
    "collapsed": true
   },
   "outputs": [],
   "source": [
    "train_data,test_data=sales.random_split(.8,seed=0)"
   ]
  },
  {
   "cell_type": "markdown",
   "metadata": {},
   "source": [
    "## Build the Regression model"
   ]
  },
  {
   "cell_type": "code",
   "execution_count": 24,
   "metadata": {},
   "outputs": [
    {
     "name": "stdout",
     "output_type": "stream",
     "text": [
      "PROGRESS: Creating a validation set from 5 percent of training data. This may take a while.\n",
      "          You can set ``validation_set=None`` to disable validation tracking.\n",
      "\n"
     ]
    },
    {
     "data": {
      "text/html": [
       "<pre>Linear regression:</pre>"
      ],
      "text/plain": [
       "Linear regression:"
      ]
     },
     "metadata": {},
     "output_type": "display_data"
    },
    {
     "data": {
      "text/html": [
       "<pre>--------------------------------------------------------</pre>"
      ],
      "text/plain": [
       "--------------------------------------------------------"
      ]
     },
     "metadata": {},
     "output_type": "display_data"
    },
    {
     "data": {
      "text/html": [
       "<pre>Number of examples          : 16511</pre>"
      ],
      "text/plain": [
       "Number of examples          : 16511"
      ]
     },
     "metadata": {},
     "output_type": "display_data"
    },
    {
     "data": {
      "text/html": [
       "<pre>Number of features          : 1</pre>"
      ],
      "text/plain": [
       "Number of features          : 1"
      ]
     },
     "metadata": {},
     "output_type": "display_data"
    },
    {
     "data": {
      "text/html": [
       "<pre>Number of unpacked features : 1</pre>"
      ],
      "text/plain": [
       "Number of unpacked features : 1"
      ]
     },
     "metadata": {},
     "output_type": "display_data"
    },
    {
     "data": {
      "text/html": [
       "<pre>Number of coefficients    : 2</pre>"
      ],
      "text/plain": [
       "Number of coefficients    : 2"
      ]
     },
     "metadata": {},
     "output_type": "display_data"
    },
    {
     "data": {
      "text/html": [
       "<pre>Starting Newton Method</pre>"
      ],
      "text/plain": [
       "Starting Newton Method"
      ]
     },
     "metadata": {},
     "output_type": "display_data"
    },
    {
     "data": {
      "text/html": [
       "<pre>--------------------------------------------------------</pre>"
      ],
      "text/plain": [
       "--------------------------------------------------------"
      ]
     },
     "metadata": {},
     "output_type": "display_data"
    },
    {
     "data": {
      "text/html": [
       "<pre>+-----------+----------+--------------+--------------------+----------------------+---------------+-----------------+</pre>"
      ],
      "text/plain": [
       "+-----------+----------+--------------+--------------------+----------------------+---------------+-----------------+"
      ]
     },
     "metadata": {},
     "output_type": "display_data"
    },
    {
     "data": {
      "text/html": [
       "<pre>| Iteration | Passes   | Elapsed Time | Training-max_error | Validation-max_error | Training-rmse | Validation-rmse |</pre>"
      ],
      "text/plain": [
       "| Iteration | Passes   | Elapsed Time | Training-max_error | Validation-max_error | Training-rmse | Validation-rmse |"
      ]
     },
     "metadata": {},
     "output_type": "display_data"
    },
    {
     "data": {
      "text/html": [
       "<pre>+-----------+----------+--------------+--------------------+----------------------+---------------+-----------------+</pre>"
      ],
      "text/plain": [
       "+-----------+----------+--------------+--------------------+----------------------+---------------+-----------------+"
      ]
     },
     "metadata": {},
     "output_type": "display_data"
    },
    {
     "data": {
      "text/html": [
       "<pre>| 1         | 2        | 0.012000     | 4367179.792232     | 3272996.000988       | 260348.479782 | 308020.393987   |</pre>"
      ],
      "text/plain": [
       "| 1         | 2        | 0.012000     | 4367179.792232     | 3272996.000988       | 260348.479782 | 308020.393987   |"
      ]
     },
     "metadata": {},
     "output_type": "display_data"
    },
    {
     "data": {
      "text/html": [
       "<pre>+-----------+----------+--------------+--------------------+----------------------+---------------+-----------------+</pre>"
      ],
      "text/plain": [
       "+-----------+----------+--------------+--------------------+----------------------+---------------+-----------------+"
      ]
     },
     "metadata": {},
     "output_type": "display_data"
    },
    {
     "data": {
      "text/html": [
       "<pre>SUCCESS: Optimal solution found.</pre>"
      ],
      "text/plain": [
       "SUCCESS: Optimal solution found."
      ]
     },
     "metadata": {},
     "output_type": "display_data"
    },
    {
     "data": {
      "text/html": [
       "<pre></pre>"
      ],
      "text/plain": []
     },
     "metadata": {},
     "output_type": "display_data"
    }
   ],
   "source": [
    "sqft_model=graphlab.linear_regression.create(train_data,target='price',features=['sqft_living'])"
   ]
  },
  {
   "cell_type": "code",
   "execution_count": 25,
   "metadata": {},
   "outputs": [
    {
     "name": "stdout",
     "output_type": "stream",
     "text": [
      "543054.042563\n"
     ]
    }
   ],
   "source": [
    "print(test_data['price'].mean())"
   ]
  },
  {
   "cell_type": "code",
   "execution_count": 26,
   "metadata": {},
   "outputs": [
    {
     "name": "stdout",
     "output_type": "stream",
     "text": [
      "{'max_error': 4157450.824616889, 'rmse': 255161.57735643716}\n"
     ]
    }
   ],
   "source": [
    "print(sqft_model.evaluate(test_data))"
   ]
  },
  {
   "cell_type": "markdown",
   "metadata": {},
   "source": [
    "## lets show whats our prediction look like"
   ]
  },
  {
   "cell_type": "code",
   "execution_count": 28,
   "metadata": {},
   "outputs": [],
   "source": [
    "import matplotlib.pyplot as plt\n",
    "%matplotlib inline"
   ]
  },
  {
   "cell_type": "code",
   "execution_count": 30,
   "metadata": {},
   "outputs": [
    {
     "data": {
      "text/plain": [
       "[<matplotlib.lines.Line2D at 0x7fe746dce6d0>,\n",
       " <matplotlib.lines.Line2D at 0x7fe746dce7d0>]"
      ]
     },
     "execution_count": 30,
     "metadata": {},
     "output_type": "execute_result"
    },
    {
     "data": {
      "image/png": "[encoded data removed]",
      "text/plain": [
       "<matplotlib.figure.Figure at 0x7fe76807b910>"
      ]
     },
     "metadata": {},
     "output_type": "display_data"
    }
   ],
   "source": [
    "plt.plot(test_data['sqft_living'],test_data['price'], '.',test_data['sqft_living'],sqft_model.predict(test_data),'-')"
   ]
  },
  {
   "cell_type": "code",
   "execution_count": null,
   "metadata": {
    "collapsed": true
   },
   "outputs": [],
   "source": []
  }
 ],
 "metadata": {
  "kernelspec": {
   "display_name": "Python 3",
   "language": "python",
   "name": "python3"
  },
  "language_info": {
   "codemirror_mode": {
    "name": "ipython",
    "version": 2
   },
   "file_extension": ".py",
   "mimetype": "text/x-python",
   "name": "python",
   "nbconvert_exporter": "python",
   "pygments_lexer": "ipython2",
   "version": "2.7.13"
  }
 },
 "nbformat": 4,
 "nbformat_minor": 2
}
